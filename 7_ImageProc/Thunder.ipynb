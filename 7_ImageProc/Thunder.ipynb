{
 "cells": [
  {
   "cell_type": "markdown",
   "metadata": {},
   "source": [
    "# Description of the problem: image processing with Thunder\n",
    "\n",
    "This is the case study adopted from O'Reilly \"Advanced analytics with Spark\" book.\n",
    "Thunder was designed specifically with neuroimaging datasets in mind. Thus, it is geared towards analysing large datasets of images captured over time.\n",
    "\n",
    "## Zebrafish brains: the dataset\n",
    "\n",
    "Let us load some plotting libraries and take a look at the example images from the dataset"
   ]
  },
  {
   "cell_type": "code",
   "execution_count": null,
   "metadata": {
    "collapsed": true
   },
   "outputs": [],
   "source": [
    "import matplotlib\n",
    "%matplotlib inline\n",
    "import matplotlib.pyplot as plt\n",
    "from matplotlib.colors import ListedColormap"
   ]
  },
  {
   "cell_type": "markdown",
   "metadata": {},
   "source": [
    "The dataset consists of 20 76x87x2 pixel greyscale images.\n",
    "Here is how the dataset looks like:\n",
    "\n",
    "<img src=\"images/time015.tif\">\n",
    "<img src=\"images/time016.tif\">\n",
    "\n",
    "Typically, an image can be modeled as a 2D matrix of pixel each having value of the levels of grey (RGB images are somewhat different - they have multiple layers). Zebrafish brains are 3D objects, thus it is insuffient to just use 2D matrix (image), so a technique used to acquire different 2D images in different planes on top of each other (z-stack).\n",
    "\n",
    "This produces 3D matrix of intensity values where each value represents a voxel (volume element)."
   ]
  },
  {
   "cell_type": "markdown",
   "metadata": {
    "collapsed": true
   },
   "source": [
    "## Loading the data into RDD"
   ]
  },
  {
   "cell_type": "code",
   "execution_count": 6,
   "metadata": {
    "collapsed": true
   },
   "outputs": [],
   "source": [
    "from thunder import ThunderContext\n",
    "tsc = ThunderContext(sc)"
   ]
  },
  {
   "cell_type": "code",
   "execution_count": 8,
   "metadata": {
    "collapsed": false
   },
   "outputs": [
    {
     "name": "stdout",
     "output_type": "stream",
     "text": [
      "Images\n",
      "nrecords: 20\n",
      "dtype: None (inspect to compute)\n",
      "shape: None (inspect to compute)\n",
      "dims: None (inspect to compute)\n",
      "PythonRDD[5] at RDD at PythonRDD.scala:43\n",
      "(0, array([[[26, 25],\n",
      "        [26, 25],\n",
      "        [26, 25],\n",
      "        ..., \n",
      "        [26, 26],\n",
      "        [26, 26],\n",
      "        [26, 26]],\n",
      "\n",
      "       [[26, 25],\n",
      "        [26, 25],\n",
      "        [26, 25],\n",
      "        ..., \n",
      "        [26, 26],\n",
      "        [26, 26],\n",
      "        [26, 26]],\n",
      "\n",
      "       [[26, 26],\n",
      "        [26, 26],\n",
      "        [26, 26],\n",
      "        ..., \n",
      "        [27, 26],\n",
      "        [27, 26],\n",
      "        [26, 26]],\n",
      "\n",
      "       ..., \n",
      "       [[26, 26],\n",
      "        [26, 26],\n",
      "        [26, 26],\n",
      "        ..., \n",
      "        [27, 26],\n",
      "        [27, 26],\n",
      "        [26, 26]],\n",
      "\n",
      "       [[26, 26],\n",
      "        [26, 26],\n",
      "        [26, 26],\n",
      "        ..., \n",
      "        [27, 26],\n",
      "        [26, 26],\n",
      "        [26, 26]],\n",
      "\n",
      "       [[25, 25],\n",
      "        [25, 25],\n",
      "        [25, 25],\n",
      "        ..., \n",
      "        [26, 26],\n",
      "        [26, 26],\n",
      "        [26, 26]]], dtype=uint8))\n",
      "(76, 87, 2)\n",
      "(76, 87, 2)\n"
     ]
    }
   ],
   "source": [
    "# load some zebrafish brain data\n",
    "imagesRDD = tsc.loadImages('./images', inputFormat='tif-stack')\n",
    "\n",
    "# explore the resulting object\n",
    "print imagesRDD\n",
    "print imagesRDD.rdd\n",
    "print imagesRDD.first()\n",
    "print imagesRDD.first()[1].shape\n",
    "print imagesRDD.dims"
   ]
  },
  {
   "cell_type": "markdown",
   "metadata": {},
   "source": [
    "## Plot the raw and subsampled data"
   ]
  },
  {
   "cell_type": "code",
   "execution_count": 10,
   "metadata": {
    "collapsed": false
   },
   "outputs": [
    {
     "data": {
      "text/plain": [
       "<matplotlib.image.AxesImage at 0x10ebbe090>"
      ]
     },
     "execution_count": 10,
     "metadata": {},
     "output_type": "execute_result"
    },
    {
     "data": {
      "image/png": "[encoded data removed]",
      "text/plain": [
       "<matplotlib.figure.Figure at 0x10ed0c390>"
      ]
     },
     "metadata": {},
     "output_type": "display_data"
    }
   ],
   "source": [
    "# plot the raw data\n",
    "img = imagesRDD.values().first()\n",
    "plt.imshow(img[:, : ,0], interpolation='nearest', aspect='equal', cmap='gray')"
   ]
  },
  {
   "cell_type": "code",
   "execution_count": 11,
   "metadata": {
    "collapsed": false
   },
   "outputs": [
    {
     "name": "stdout",
     "output_type": "stream",
     "text": [
      "(16, 18, 2)\n"
     ]
    },
    {
     "data": {
      "image/png": "[encoded data removed]",
      "text/plain": [
       "<matplotlib.figure.Figure at 0x10ebce690>"
      ]
     },
     "metadata": {},
     "output_type": "display_data"
    }
   ],
   "source": [
    "# plot subsampled data\n",
    "subsampled = imagesRDD.subsample((5, 5, 1))\n",
    "plt.imshow(subsampled.first()[1][:, : ,0], interpolation='nearest', aspect='equal', cmap='gray')\n",
    "print subsampled.dims"
   ]
  },
  {
   "cell_type": "markdown",
   "metadata": {},
   "source": [
    "## Series representation\n",
    "\n",
    "The primary data types in Thunder are Images and Series. They can each be loaded from a variety of raw input formats, including text or flat binary files (for Series) and binary, tifs, or pngs (for Images). Given the stack of images, we can convert it to series adding an extra dimension."
   ]
  },
  {
   "cell_type": "code",
   "execution_count": 12,
   "metadata": {
    "collapsed": false
   },
   "outputs": [
    {
     "name": "stdout",
     "output_type": "stream",
     "text": [
      "(76, 87, 2)\n",
      "[ 0  1  2  3  4  5  6  7  8  9 10 11 12 13 14 15 16 17 18 19]\n",
      "13224\n",
      "((30, 0, 0), array([ 26.,  26.,  26.,  26.,  26.,  26.,  26.,  26.,  26.,  26.,  26.,\n",
      "        26.,  26.,  26.,  26.,  26.,  26.,  26.,  26.,  26.], dtype=float16))\n",
      "[ 158.  152.  145.  143.  142.  141.  140.  140.  139.  139.  140.  140.\n",
      "  142.  144.  153.  168.  179.  185.  185.  182.]\n"
     ]
    }
   ],
   "source": [
    "# reshuffle data to series representation\n",
    "seriesRDD = imagesRDD.toSeries()\n",
    "print seriesRDD.dims\n",
    "print seriesRDD.index\n",
    "print seriesRDD.count()\n",
    "print seriesRDD.rdd.takeSample(False, 1, 0)[0]\n",
    "print seriesRDD.max()"
   ]
  },
  {
   "cell_type": "markdown",
   "metadata": {},
   "source": [
    "# Distributed computation of stats"
   ]
  },
  {
   "cell_type": "code",
   "execution_count": 13,
   "metadata": {
    "collapsed": false
   },
   "outputs": [
    {
     "name": "stdout",
     "output_type": "stream",
     "text": [
      "[((0, 0, 0), 0.3999), ((1, 0, 0), 0.0), ((2, 0, 0), 0.0)]\n",
      "(76, 87, 2)\n"
     ]
    }
   ],
   "source": [
    "stddevRDD = seriesRDD.seriesStdev()\n",
    "print stddevRDD.take(3)\n",
    "print stddevRDD.dims"
   ]
  },
  {
   "cell_type": "code",
   "execution_count": 14,
   "metadata": {
    "collapsed": false
   },
   "outputs": [
    {
     "name": "stdout",
     "output_type": "stream",
     "text": [
      "<type 'numpy.ndarray'>\n",
      "(76, 87, 2)\n"
     ]
    },
    {
     "data": {
      "image/png": "[encoded data removed]",
      "text/plain": [
       "<matplotlib.figure.Figure at 0x10f6c18d0>"
      ]
     },
     "metadata": {},
     "output_type": "display_data"
    }
   ],
   "source": [
    "# collecting data locally and repacking it\n",
    "repacked = stddevRDD.pack()\n",
    "plt.imshow(repacked[:,:,0], interpolation='nearest', cmap='gray', aspect='equal')\n",
    "print type(repacked)\n",
    "print repacked.shape"
   ]
  },
  {
   "cell_type": "markdown",
   "metadata": {},
   "source": [
    "# Plot some of the time series themselves"
   ]
  },
  {
   "cell_type": "code",
   "execution_count": 15,
   "metadata": {
    "collapsed": false
   },
   "outputs": [
    {
     "data": {
      "text/plain": [
       "[<matplotlib.lines.Line2D at 0x10fa04c10>,\n",
       " <matplotlib.lines.Line2D at 0x10fa04e10>,\n",
       " <matplotlib.lines.Line2D at 0x10fa04f50>,\n",
       " <matplotlib.lines.Line2D at 0x10fa120d0>,\n",
       " <matplotlib.lines.Line2D at 0x10fa12210>,\n",
       " <matplotlib.lines.Line2D at 0x10fa12350>,\n",
       " <matplotlib.lines.Line2D at 0x10fa12490>,\n",
       " <matplotlib.lines.Line2D at 0x10fa125d0>,\n",
       " <matplotlib.lines.Line2D at 0x10fa12710>,\n",
       " <matplotlib.lines.Line2D at 0x10fa12850>,\n",
       " <matplotlib.lines.Line2D at 0x10fa12990>,\n",
       " <matplotlib.lines.Line2D at 0x10fa12ad0>,\n",
       " <matplotlib.lines.Line2D at 0x10fa12c10>,\n",
       " <matplotlib.lines.Line2D at 0x10fa12d50>,\n",
       " <matplotlib.lines.Line2D at 0x10f800110>,\n",
       " <matplotlib.lines.Line2D at 0x10fa12fd0>,\n",
       " <matplotlib.lines.Line2D at 0x10fa1b150>,\n",
       " <matplotlib.lines.Line2D at 0x10fa1b290>,\n",
       " <matplotlib.lines.Line2D at 0x10fa1b3d0>,\n",
       " <matplotlib.lines.Line2D at 0x10fa1b510>,\n",
       " <matplotlib.lines.Line2D at 0x10fa1b650>,\n",
       " <matplotlib.lines.Line2D at 0x10fa12e90>,\n",
       " <matplotlib.lines.Line2D at 0x10fa1b8d0>,\n",
       " <matplotlib.lines.Line2D at 0x10fa1ba10>,\n",
       " <matplotlib.lines.Line2D at 0x10fa1bb50>,\n",
       " <matplotlib.lines.Line2D at 0x10fa1bc90>,\n",
       " <matplotlib.lines.Line2D at 0x10fa1bdd0>,\n",
       " <matplotlib.lines.Line2D at 0x10fa1bf10>,\n",
       " <matplotlib.lines.Line2D at 0x10fa1b790>,\n",
       " <matplotlib.lines.Line2D at 0x10fa261d0>,\n",
       " <matplotlib.lines.Line2D at 0x10fa26310>,\n",
       " <matplotlib.lines.Line2D at 0x10fa26450>,\n",
       " <matplotlib.lines.Line2D at 0x10fa26590>,\n",
       " <matplotlib.lines.Line2D at 0x10fa266d0>,\n",
       " <matplotlib.lines.Line2D at 0x10fa26810>,\n",
       " <matplotlib.lines.Line2D at 0x10fa26090>,\n",
       " <matplotlib.lines.Line2D at 0x10fa26a90>,\n",
       " <matplotlib.lines.Line2D at 0x10fa26bd0>,\n",
       " <matplotlib.lines.Line2D at 0x10fa26d10>,\n",
       " <matplotlib.lines.Line2D at 0x10fa26e50>,\n",
       " <matplotlib.lines.Line2D at 0x10fa26f90>,\n",
       " <matplotlib.lines.Line2D at 0x10fa30110>,\n",
       " <matplotlib.lines.Line2D at 0x10fa26950>,\n",
       " <matplotlib.lines.Line2D at 0x10fa30390>,\n",
       " <matplotlib.lines.Line2D at 0x10fa304d0>,\n",
       " <matplotlib.lines.Line2D at 0x10fa30610>,\n",
       " <matplotlib.lines.Line2D at 0x10fa30750>,\n",
       " <matplotlib.lines.Line2D at 0x10fa30890>,\n",
       " <matplotlib.lines.Line2D at 0x10fa309d0>,\n",
       " <matplotlib.lines.Line2D at 0x10fa30250>]"
      ]
     },
     "execution_count": 15,
     "metadata": {},
     "output_type": "execute_result"
    },
    {
     "data": {
      "image/png": "[encoded data removed]",
      "text/plain": [
       "<matplotlib.figure.Figure at 0x10f7d6150>"
      ]
     },
     "metadata": {},
     "output_type": "display_data"
    }
   ],
   "source": [
    "plt.plot(seriesRDD.center().subset(50).T)"
   ]
  },
  {
   "cell_type": "code",
   "execution_count": 16,
   "metadata": {
    "collapsed": false
   },
   "outputs": [
    {
     "data": {
      "text/plain": [
       "Series\n",
       "nrecords: 13224\n",
       "dtype: None (inspect to compute)\n",
       "shape: None (inspect to compute)\n",
       "dims: (76, 87, 2)\n",
       "index: None (inspect to compute)"
      ]
     },
     "execution_count": 16,
     "metadata": {},
     "output_type": "execute_result"
    }
   ],
   "source": [
    "# distributed computatino of custom statistics\n",
    "seriesRDD.apply(lambda x: x.argmin())"
   ]
  }
 ],
 "metadata": {
  "kernelspec": {
   "display_name": "Python 2",
   "language": "python",
   "name": "python2"
  },
  "language_info": {
   "codemirror_mode": {
    "name": "ipython",
    "version": 2
   },
   "file_extension": ".py",
   "mimetype": "text/x-python",
   "name": "python",
   "nbconvert_exporter": "python",
   "pygments_lexer": "ipython2",
   "version": "2.7.11"
  }
 },
 "nbformat": 4,
 "nbformat_minor": 0
}
