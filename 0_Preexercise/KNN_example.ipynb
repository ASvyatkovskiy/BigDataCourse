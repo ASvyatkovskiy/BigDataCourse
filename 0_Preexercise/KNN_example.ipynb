{
 "cells": [
  {
   "cell_type": "markdown",
   "metadata": {},
   "source": [
    "# K Nearest Neighbors\n",
    "\n",
    "In this notebook we'll explore the K Nearest Neighbors algorithm.  As the name implies, the prediction for a new point is based on the closest $k$ points in the training set (where closest is usually defined in terms of Euclidiean distance on the $p$-dimensional feature space).  In math terms, we're taking the Euclidean distance between the $p$-vectors $X_{j\\cdot}$ as our metric.  As a classificaiton algorithm, it takes a majority vote of the nearest $k$ neighbors.  As a regression algorithm, it takes the average label of the nearest $k$ neighbors.\n",
    "\n",
    "## Some resources\n",
    "\n",
    "1. [Wikipedia](http://en.wikipedia.org/wiki/K-nearest_neighbors_algorithm)\n",
    "1. The Scikit Learn package implements [K Nearest Neighbors](http://scikit-learn.org/stable/modules/neighbors.html).  It has both a [`KNeighborsClassifier`](http://scikit-learn.org/stable/modules/generated/sklearn.neighbors.KNeighborsClassifier.html) and [`KNeighborsRegressor`](http://scikit-learn.org/stable/modules/generated/sklearn.neighbors.KNeighborsRegressor.html)."
   ]
  },
  {
   "cell_type": "code",
   "execution_count": 1,
   "metadata": {},
   "outputs": [
    {
     "data": {
      "text/html": [
       "<div>\n",
       "<table border=\"1\" class=\"dataframe\">\n",
       "  <thead>\n",
       "    <tr style=\"text-align: right;\">\n",
       "      <th></th>\n",
       "      <th>sepal_length</th>\n",
       "      <th>sepal_width</th>\n",
       "      <th>petal_legnth</th>\n",
       "      <th>petal_width</th>\n",
       "    </tr>\n",
       "  </thead>\n",
       "  <tbody>\n",
       "    <tr>\n",
       "      <th>0</th>\n",
       "      <td>5.1</td>\n",
       "      <td>3.5</td>\n",
       "      <td>1.4</td>\n",
       "      <td>0.2</td>\n",
       "    </tr>\n",
       "    <tr>\n",
       "      <th>1</th>\n",
       "      <td>4.9</td>\n",
       "      <td>3.0</td>\n",
       "      <td>1.4</td>\n",
       "      <td>0.2</td>\n",
       "    </tr>\n",
       "    <tr>\n",
       "      <th>2</th>\n",
       "      <td>4.7</td>\n",
       "      <td>3.2</td>\n",
       "      <td>1.3</td>\n",
       "      <td>0.2</td>\n",
       "    </tr>\n",
       "    <tr>\n",
       "      <th>3</th>\n",
       "      <td>4.6</td>\n",
       "      <td>3.1</td>\n",
       "      <td>1.5</td>\n",
       "      <td>0.2</td>\n",
       "    </tr>\n",
       "    <tr>\n",
       "      <th>4</th>\n",
       "      <td>5.0</td>\n",
       "      <td>3.6</td>\n",
       "      <td>1.4</td>\n",
       "      <td>0.2</td>\n",
       "    </tr>\n",
       "  </tbody>\n",
       "</table>\n",
       "</div>"
      ],
      "text/plain": [
       "   sepal_length  sepal_width  petal_legnth  petal_width\n",
       "0           5.1          3.5           1.4          0.2\n",
       "1           4.9          3.0           1.4          0.2\n",
       "2           4.7          3.2           1.3          0.2\n",
       "3           4.6          3.1           1.5          0.2\n",
       "4           5.0          3.6           1.4          0.2"
      ]
     },
     "execution_count": 1,
     "metadata": {},
     "output_type": "execute_result"
    }
   ],
   "source": [
    "# Load and display a sample of the iris dataset\n",
    "\n",
    "from sklearn import neighbors, datasets\n",
    "import pandas as pd\n",
    "import numpy as np\n",
    "\n",
    "# load the data\n",
    "# The iris data set labels 3 flower types (y) by 4 different attributes of the flower (X).\n",
    "# For more about the attributes, see http://mldata.org/repository/data/viewslug/datasets-uci-iris/\n",
    "data = datasets.load_iris()\n",
    "X = pd.DataFrame(data.data, columns=[\"sepal_length\", \"sepal_width\", \"petal_legnth\", \"petal_width\"])\n",
    "y = pd.Series(data.target)\n",
    "X.head()"
   ]
  },
  {
   "cell_type": "code",
   "execution_count": 3,
   "metadata": {},
   "outputs": [
    {
     "name": "stdout",
     "output_type": "stream",
     "text": [
      "Distance\n",
      "     0         1         2         3         4\n",
      "0  0.0  0.100000  0.141421  0.141421  0.141421\n",
      "1  0.0  0.141421  0.141421  0.173205  0.173205\n",
      "2  0.0  0.141421  0.244949  0.264575  0.264575\n",
      "3  0.0  0.141421  0.173205  0.223607  0.244949\n",
      "4  0.0  0.141421  0.173205  0.173205  0.223607\n",
      "Indices\n",
      "   0   1   2   3   4\n",
      "0  0  17   4  39  27\n",
      "1  1  45  12  34  37\n",
      "2  2  47   3  12   6\n",
      "3  3  47  29  30   2\n",
      "4  4   0  17  40   7\n"
     ]
    }
   ],
   "source": [
    "# Process the nearest neighbors\n",
    "nearest_neighbors = neighbors.NearestNeighbors(n_neighbors=5, algorithm='ball_tree')\n",
    "nearest_neighbors.fit(X)\n",
    "distances, indices = nearest_neighbors.kneighbors(X)\n",
    "\n",
    "# Column $k$ gives the distances between each point and its $k$-th nearest neighbor from 0 to 4\n",
    "# Column 0 is always itself.\n",
    "# Each row is a separate point (note the first column)\n",
    "print (\"Distance\")\n",
    "print (pd.DataFrame(distances).head())\n",
    "print (\"Indices\")\n",
    "print (pd.DataFrame(indices).head())"
   ]
  },
  {
   "cell_type": "code",
   "execution_count": 15,
   "metadata": {},
   "outputs": [
    {
     "name": "stderr",
     "output_type": "stream",
     "text": [
      "/opt/conda/lib/python3.6/site-packages/sklearn/model_selection/_search.py:667: DeprecationWarning: The grid_scores_ attribute was deprecated in version 0.18 in favor of the more elaborate cv_results_ attribute. The grid_scores_ attribute will not be available from 0.20\n",
      "  DeprecationWarning)\n"
     ]
    },
    {
     "data": {
      "image/png": "[encoded data removed]",
      "text/plain": [
       "<matplotlib.figure.Figure at 0x7f017f952e80>"
      ]
     },
     "metadata": {},
     "output_type": "display_data"
    }
   ],
   "source": [
    "# We illustrate the effect of the number of neigbhors used on accruacy.\n",
    "\n",
    "from sklearn import neighbors, model_selection\n",
    "import matplotlib.pylab as plt\n",
    "\n",
    "cv = model_selection.ShuffleSplit(len(y), test_size=0.2, random_state=42)\n",
    "param_grid = { \"n_neighbors\": range(4, 24, 4) }\n",
    "nearest_neighbors_cv = model_selection.GridSearchCV(neighbors.KNeighborsClassifier(), \n",
    "                                                param_grid=param_grid, cv=cv, \n",
    "                                                scoring='accuracy')\n",
    "\n",
    "nearest_neighbors_cv.fit(X, y)\n",
    "cv_accuracy = pd.DataFrame.from_records(\n",
    "    [(score.parameters['n_neighbors'],\n",
    "      score.mean_validation_score)\n",
    "     for score in nearest_neighbors_cv.grid_scores_],\n",
    "columns=['n_neighbors', 'accuracy'])\n",
    "\n",
    "plt.plot(cv_accuracy.n_neighbors, cv_accuracy.accuracy)\n",
    "plt.xlabel('n_neighbors')\n",
    "plt.ylabel('accuracy')\n",
    "plt.show()"
   ]
  },
  {
   "cell_type": "markdown",
   "metadata": {},
   "source": [
    "## Normalizing Data.\n",
    "\n",
    "Based on your answer to the last question, we will want to scale the individual features so that they have similar variance.  For each feature, we are going to subtract the mean and divide by the standard deviation:\n",
    "\n",
    "$$ X_{ji}' = \\frac{X_{ji} - \\mu_i}{\\sigma_i} $$\n",
    "\n",
    "where $\\mu_i$ is the mean of the $i$-th column (or feature) and $\\sigma_i$ is the standard deviation.\n",
    "\n",
    "**Question**: For $k$-Nearest-Neighbors, was subtracting the mean necessary?  For what other algorithms might subtracting the mean help?"
   ]
  },
  {
   "cell_type": "code",
   "execution_count": 17,
   "metadata": {},
   "outputs": [
    {
     "data": {
      "text/html": [
       "<div>\n",
       "<table border=\"1\" class=\"dataframe\">\n",
       "  <thead>\n",
       "    <tr style=\"text-align: right;\">\n",
       "      <th></th>\n",
       "      <th>Mean</th>\n",
       "      <th>Std</th>\n",
       "    </tr>\n",
       "  </thead>\n",
       "  <tbody>\n",
       "    <tr>\n",
       "      <th>sepal_length</th>\n",
       "      <td>5.843333</td>\n",
       "      <td>0.825301</td>\n",
       "    </tr>\n",
       "    <tr>\n",
       "      <th>sepal_width</th>\n",
       "      <td>3.054000</td>\n",
       "      <td>0.432147</td>\n",
       "    </tr>\n",
       "    <tr>\n",
       "      <th>petal_legnth</th>\n",
       "      <td>3.758667</td>\n",
       "      <td>1.758529</td>\n",
       "    </tr>\n",
       "    <tr>\n",
       "      <th>petal_width</th>\n",
       "      <td>1.198667</td>\n",
       "      <td>0.760613</td>\n",
       "    </tr>\n",
       "  </tbody>\n",
       "</table>\n",
       "</div>"
      ],
      "text/plain": [
       "                  Mean       Std\n",
       "sepal_length  5.843333  0.825301\n",
       "sepal_width   3.054000  0.432147\n",
       "petal_legnth  3.758667  1.758529\n",
       "petal_width   1.198667  0.760613"
      ]
     },
     "execution_count": 17,
     "metadata": {},
     "output_type": "execute_result"
    }
   ],
   "source": [
    "from sklearn import preprocessing\n",
    "\n",
    "# first, let's see what the standard deviations are.\n",
    "scaler = preprocessing.StandardScaler(copy=True).fit(X)\n",
    "pd.DataFrame({\n",
    "    \"Mean\": scaler.mean_,\n",
    "    \"Std\": scaler.scale_\n",
    "}, index=X.columns)"
   ]
  },
  {
   "cell_type": "code",
   "execution_count": 18,
   "metadata": {},
   "outputs": [
    {
     "data": {
      "text/html": [
       "<div>\n",
       "<table border=\"1\" class=\"dataframe\">\n",
       "  <thead>\n",
       "    <tr style=\"text-align: right;\">\n",
       "      <th></th>\n",
       "      <th>Mean</th>\n",
       "      <th>Std</th>\n",
       "    </tr>\n",
       "  </thead>\n",
       "  <tbody>\n",
       "    <tr>\n",
       "      <th>0</th>\n",
       "      <td>-1.468455e-15</td>\n",
       "      <td>1.0</td>\n",
       "    </tr>\n",
       "    <tr>\n",
       "      <th>1</th>\n",
       "      <td>-1.657933e-15</td>\n",
       "      <td>1.0</td>\n",
       "    </tr>\n",
       "    <tr>\n",
       "      <th>2</th>\n",
       "      <td>-1.515825e-15</td>\n",
       "      <td>1.0</td>\n",
       "    </tr>\n",
       "    <tr>\n",
       "      <th>3</th>\n",
       "      <td>-8.052818e-16</td>\n",
       "      <td>1.0</td>\n",
       "    </tr>\n",
       "  </tbody>\n",
       "</table>\n",
       "</div>"
      ],
      "text/plain": [
       "           Mean  Std\n",
       "0 -1.468455e-15  1.0\n",
       "1 -1.657933e-15  1.0\n",
       "2 -1.515825e-15  1.0\n",
       "3 -8.052818e-16  1.0"
      ]
     },
     "execution_count": 18,
     "metadata": {},
     "output_type": "execute_result"
    }
   ],
   "source": [
    "X_copy = X.copy()  # Feature (bug?): transform modifies the original \n",
    "X_scaled = scaler.transform(X_copy)\n",
    "pd.DataFrame({\n",
    "    \"Mean\": X_scaled.mean(axis=0), \n",
    "    \"Std\": X_scaled.std(axis=0)\n",
    "})"
   ]
  },
  {
   "cell_type": "code",
   "execution_count": 20,
   "metadata": {},
   "outputs": [
    {
     "name": "stderr",
     "output_type": "stream",
     "text": [
      "/opt/conda/lib/python3.6/site-packages/sklearn/model_selection/_search.py:667: DeprecationWarning: The grid_scores_ attribute was deprecated in version 0.18 in favor of the more elaborate cv_results_ attribute. The grid_scores_ attribute will not be available from 0.20\n",
      "  DeprecationWarning)\n"
     ]
    },
    {
     "data": {
      "image/png": "[encoded data removed]",
      "text/plain": [
       "<matplotlib.figure.Figure at 0x7f017d0149e8>"
      ]
     },
     "metadata": {},
     "output_type": "display_data"
    }
   ],
   "source": [
    "# We are going to first scale and then apply KNeighbors.\n",
    "# Pipeline allows us to chain together multiple transformers and then a regressor or classifier\n",
    "\n",
    "from sklearn.pipeline import Pipeline\n",
    "\n",
    "scaled_nearest_neighbors = Pipeline([('scaling', preprocessing.StandardScaler(copy=True)), \n",
    "                                     ('neighbors', neighbors.KNeighborsClassifier())])\n",
    "\n",
    "param_grid = { \"neighbors__n_neighbors\": range(4, 24, 4) }    # parameters to Pipeline take the form [label]__[estimator_param]\n",
    "scaled_nearest_neighbors_cv = model_selection.GridSearchCV(scaled_nearest_neighbors, \n",
    "                                                       param_grid=param_grid, cv=cv, \n",
    "                                                       scoring='accuracy')\n",
    "\n",
    "scaled_nearest_neighbors_cv.fit(X, y)\n",
    "scaled_cv_accuracy = pd.DataFrame.from_records(\n",
    "    [(score.parameters['neighbors__n_neighbors'],\n",
    "      score.mean_validation_score)\n",
    "     for score in scaled_nearest_neighbors_cv.grid_scores_],\n",
    "columns=['n_neighbors', 'accuracy'])\n",
    "\n",
    "plt.plot(scaled_cv_accuracy.n_neighbors, scaled_cv_accuracy.accuracy, label=\"scaled_cv_accuracy\")\n",
    "plt.plot(cv_accuracy.n_neighbors, cv_accuracy.accuracy, label=\"cv_accuracy\")\n",
    "plt.xlabel('n_neighbors')\n",
    "plt.ylabel('accuracy')\n",
    "plt.legend(loc='lower center')\n",
    "plt.show()"
   ]
  },
  {
   "cell_type": "code",
   "execution_count": null,
   "metadata": {
    "collapsed": true
   },
   "outputs": [],
   "source": []
  }
 ],
 "metadata": {
  "kernelspec": {
   "display_name": "Python 2",
   "language": "python",
   "name": "python2"
  },
  "language_info": {
   "codemirror_mode": {
    "name": "ipython",
    "version": 3
   },
   "file_extension": ".py",
   "mimetype": "text/x-python",
   "name": "python",
   "nbconvert_exporter": "python",
   "pygments_lexer": "ipython3",
   "version": "3.6.3"
  }
 },
 "nbformat": 4,
 "nbformat_minor": 1
}
