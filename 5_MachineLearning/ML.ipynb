{
 "cells": [
  {
   "cell_type": "code",
   "execution_count": 107,
   "metadata": {},
   "outputs": [],
   "source": [
    "import pyspark\n",
    "try:\n",
    "    sc\n",
    "except NameError:    \n",
    "    spark = pyspark.sql.SparkSession.builder.master(\"local[*]\").appName(\"BD course\").config(\"spark.hadoop.validateOutputSpecs\", \"false\").getOrCreate()\n",
    "    sc = spark.sparkContext"
   ]
  },
  {
   "cell_type": "code",
   "execution_count": 108,
   "metadata": {},
   "outputs": [],
   "source": [
    "%matplotlib inline\n",
    "\n",
    "import matplotlib\n",
    "import matplotlib.pyplot as plt"
   ]
  },
  {
   "cell_type": "markdown",
   "metadata": {},
   "source": [
    "# Machine learning with Spark\n",
    "\n",
    "\n",
    "## Spark ML and MLlib\n",
    "\n",
    "Spark MLlib is Spark’s machine learning library for RDDs. It consisting of common learning algorithms and utilities, including classification, regression, clustering, collaborative filtering, dimensionality reduction, and underlying optimization primitives. It is being superceeded by the Spark ML library based on DataFrames, so no new features are added to, but you can still use it!\n",
    "\n",
    "Spark ML is a Spark's machine learning library based on Dataframes. Some parts of Spark ML - for instance, linear algebra - still call to RDD based API, BLAS wrappers.\n",
    "\n",
    "Spark ML provides a standardized API for machine learning algorithms to make it easier to combine multiple algorithms into a single pipeline or workflow -- API inspired by Python's scikit-learn library. \n",
    "\n",
    "Similarly to what you already know about scikit-learn, basic components of a Pipeline are:\n",
    "\n",
    "1. `Transformer`: an abstract class to apply a transformation to dataset/dataframes\n",
    "1. `UnaryTransformer` abstract class: takes an input column, applies transformation, and output the result as a new column. The input and output columns can be arbitrary. However, in the Pipeline input column should be features output column should be named prediction. `UnaryTransofmer` has a `transform()` method\n",
    "1. `Estimator`: implements an algorithm which can be fit to a dataframe. For instance: a learning algorithm is an Estimator which is trained on a dataframe to produce a model. Has a `fit()` method\n",
    "1. `Parameter`: an API to pass parameters to `Transformer`s and `Estimator`s\n",
    "\n",
    "## Example: logistic regression\n",
    "\n",
    "Let us consider a very simple machine learning example of logistic regression.\n",
    "\n",
    "Logistic regression is an iterative machine learning algorithm that seeks to find the best hyperplane that separates two sets of points in a multi-dimensional feature space. It can be used for binary classification: to classify messages into spam vs non-spam, for example. Because the algorithm applies the same MapReduce operation repeatedly to the same dataset, it benefits greatly from caching the input in RAM across iterations.\n",
    "\n",
    "In the following example, we will predict whether a Titanic passenger has survived."
   ]
  },
  {
   "cell_type": "markdown",
   "metadata": {},
   "source": [
    "## Titanic dataset \n",
    "\n",
    "Let us consider a dataset in CSV format containing the 1912 Titanic passenger survival log.\n",
    "The dataset consist of two files: for training and for testing.\n",
    "\n",
    "Following are the variable descriptions in the dataset:\n",
    "\n",
    "1. survival: \tSurvival \t0 = No, 1 = Yes\n",
    "1. pclass: \tTicket class \t1 = 1st, 2 = 2nd, 3 = 3rd\n",
    "1. sex: \tSex \t\n",
    "1. Age: \tAge in years \t\n",
    "1. sibsp: \t# of siblings / spouses aboard the Titanic \t\n",
    "1. parch: \t# of parents / children aboard the Titanic \t\n",
    "1. ticket: \tTicket number \t\n",
    "1. fare: \tPassenger fare \t\n",
    "1. cabin: \tCabin number \t\n",
    "1. embarked: \tPort of Embarkation \tC = Cherbourg, Q = Queenstown, S = Southampton\n",
    "\n",
    "Some notes on teh variables \n",
    "\n",
    "**pclass**: A proxy for socio-economic status (SES)\n",
    "1st = Upper\n",
    "2nd = Middle\n",
    "3rd = Lower\n",
    "\n",
    "**age**: Age is fractional if less than 1. If the age is estimated, is it in the form of xx.5\n",
    "\n",
    "sibsp: The dataset defines family relations in this way...\n",
    "Sibling = brother, sister, stepbrother, stepsister\n",
    "Spouse = husband, wife (mistresses and fiancés were ignored)\n",
    "\n",
    "**parch**: The dataset defines family relations in this way...\n",
    "Parent = mother, father\n",
    "Child = daughter, son, stepdaughter, stepson\n",
    "Some children travelled only with a nanny, therefore parch=0 for them.\n",
    "\n",
    "More details about the dataset on Kaggle: https://www.kaggle.com/c/titanic/data"
   ]
  },
  {
   "cell_type": "code",
   "execution_count": 109,
   "metadata": {},
   "outputs": [
    {
     "data": {
      "text/plain": [
       "891"
      ]
     },
     "execution_count": 109,
     "metadata": {},
     "output_type": "execute_result"
    }
   ],
   "source": [
    "# Read titanic data as DataFrame using spark-csv package, and cache it\n",
    "titanic = spark.read.options(header='true', inferSchema='true').csv('./data/titanic_labeled.csv').cache()\n",
    "titanic.count()"
   ]
  },
  {
   "cell_type": "code",
   "execution_count": 110,
   "metadata": {},
   "outputs": [
    {
     "name": "stdout",
     "output_type": "stream",
     "text": [
      "root\n",
      " |-- PassengerId: integer (nullable = true)\n",
      " |-- Survived: integer (nullable = true)\n",
      " |-- Pclass: integer (nullable = true)\n",
      " |-- Name: string (nullable = true)\n",
      " |-- Sex: string (nullable = true)\n",
      " |-- Age: double (nullable = true)\n",
      " |-- SibSp: integer (nullable = true)\n",
      " |-- Parch: integer (nullable = true)\n",
      " |-- Ticket: string (nullable = true)\n",
      " |-- Fare: double (nullable = true)\n",
      " |-- Cabin: string (nullable = true)\n",
      " |-- Embarked: string (nullable = true)\n",
      "\n"
     ]
    }
   ],
   "source": [
    "titanic.printSchema()"
   ]
  },
  {
   "cell_type": "code",
   "execution_count": 111,
   "metadata": {},
   "outputs": [
    {
     "name": "stdout",
     "output_type": "stream",
     "text": [
      "+-----------+--------+------+--------------------+------+----+-----+-----+----------------+-------+-----+--------+\n",
      "|PassengerId|Survived|Pclass|                Name|   Sex| Age|SibSp|Parch|          Ticket|   Fare|Cabin|Embarked|\n",
      "+-----------+--------+------+--------------------+------+----+-----+-----+----------------+-------+-----+--------+\n",
      "|          1|       0|     3|Braund, Mr. Owen ...|  male|22.0|    1|    0|       A/5 21171|   7.25| null|       S|\n",
      "|          2|       1|     1|Cumings, Mrs. Joh...|female|38.0|    1|    0|        PC 17599|71.2833|  C85|       C|\n",
      "|          3|       1|     3|Heikkinen, Miss. ...|female|26.0|    0|    0|STON/O2. 3101282|  7.925| null|       S|\n",
      "|          4|       1|     1|Futrelle, Mrs. Ja...|female|35.0|    1|    0|          113803|   53.1| C123|       S|\n",
      "|          5|       0|     3|Allen, Mr. Willia...|  male|35.0|    0|    0|          373450|   8.05| null|       S|\n",
      "|          6|       0|     3|    Moran, Mr. James|  male|null|    0|    0|          330877| 8.4583| null|       Q|\n",
      "|          7|       0|     1|McCarthy, Mr. Tim...|  male|54.0|    0|    0|           17463|51.8625|  E46|       S|\n",
      "|          8|       0|     3|Palsson, Master. ...|  male| 2.0|    3|    1|          349909| 21.075| null|       S|\n",
      "|          9|       1|     3|Johnson, Mrs. Osc...|female|27.0|    0|    2|          347742|11.1333| null|       S|\n",
      "|         10|       1|     2|Nasser, Mrs. Nich...|female|14.0|    1|    0|          237736|30.0708| null|       C|\n",
      "|         11|       1|     3|Sandstrom, Miss. ...|female| 4.0|    1|    1|         PP 9549|   16.7|   G6|       S|\n",
      "|         12|       1|     1|Bonnell, Miss. El...|female|58.0|    0|    0|          113783|  26.55| C103|       S|\n",
      "|         13|       0|     3|Saundercock, Mr. ...|  male|20.0|    0|    0|       A/5. 2151|   8.05| null|       S|\n",
      "|         14|       0|     3|Andersson, Mr. An...|  male|39.0|    1|    5|          347082| 31.275| null|       S|\n",
      "|         15|       0|     3|Vestrom, Miss. Hu...|female|14.0|    0|    0|          350406| 7.8542| null|       S|\n",
      "|         16|       1|     2|Hewlett, Mrs. (Ma...|female|55.0|    0|    0|          248706|   16.0| null|       S|\n",
      "|         17|       0|     3|Rice, Master. Eugene|  male| 2.0|    4|    1|          382652| 29.125| null|       Q|\n",
      "|         18|       1|     2|Williams, Mr. Cha...|  male|null|    0|    0|          244373|   13.0| null|       S|\n",
      "|         19|       0|     3|Vander Planke, Mr...|female|31.0|    1|    0|          345763|   18.0| null|       S|\n",
      "|         20|       1|     3|Masselmani, Mrs. ...|female|null|    0|    0|            2649|  7.225| null|       C|\n",
      "+-----------+--------+------+--------------------+------+----+-----+-----+----------------+-------+-----+--------+\n",
      "only showing top 20 rows\n",
      "\n"
     ]
    }
   ],
   "source": [
    "titanic.show()"
   ]
  },
  {
   "cell_type": "markdown",
   "metadata": {},
   "source": [
    "We can easily explore the columns of the dataframe by converting to Pandas an using Matplotlib plotting frontend:"
   ]
  },
  {
   "cell_type": "code",
   "execution_count": 112,
   "metadata": {},
   "outputs": [
    {
     "data": {
      "text/plain": [
       "<matplotlib.axes._subplots.AxesSubplot at 0x7f419e7ee5f8>"
      ]
     },
     "execution_count": 112,
     "metadata": {},
     "output_type": "execute_result"
    },
    {
     "data": {
      "image/png": "[encoded data removed]",
      "text/plain": [
       "<matplotlib.figure.Figure at 0x7f419fec6278>"
      ]
     },
     "metadata": {},
     "output_type": "display_data"
    }
   ],
   "source": [
    "import pandas as pd\n",
    "titanic_df = titanic.toPandas()\n",
    "titanic_df['Age'].plot()"
   ]
  },
  {
   "cell_type": "markdown",
   "metadata": {},
   "source": [
    "In this example, we will restrict ourselves to the following subset of features to train a classifier on: `Pclass`, `Age`, `Sex`. Feel free to extend this list to include all other signals after the class!\n",
    "\n",
    "## Preprocess data\n",
    "\n",
    "The `Pclass` and `Age` columns are numeric, but `Sex` is a string categorical variable. We need to convert it to a numeric."
   ]
  },
  {
   "cell_type": "code",
   "execution_count": 113,
   "metadata": {},
   "outputs": [
    {
     "name": "stdout",
     "output_type": "stream",
     "text": [
      "Sex: female, male\n"
     ]
    }
   ],
   "source": [
    "# Compute lists of string categories\n",
    "def getCategories(df, col):\n",
    "    vals = sorted(df.select(col).distinct().rdd.map(lambda x: x[0]).collect())\n",
    "    valDict = dict([(vals[i], i) for i in range(len(vals))])\n",
    "    print (col + ': ' + ', '.join(vals))\n",
    "    return (vals, valDict)\n",
    "\n",
    "(sexes, sexDict) = getCategories(titanic,\"Sex\")"
   ]
  },
  {
   "cell_type": "code",
   "execution_count": 114,
   "metadata": {},
   "outputs": [],
   "source": [
    "# Convert the string categories into indices\n",
    "from pyspark.sql.types import *\n",
    "from pyspark.sql.functions import udf\n",
    "\n",
    "sexUDF = udf(lambda x: sexDict[x], IntegerType())\n",
    "\n",
    "titanicIndexed = titanic.select(sexUDF(titanic[\"Sex\"]).alias(\"Sex\"),\"Age\",\"Pclass\",\"Survived\").cache()"
   ]
  },
  {
   "cell_type": "markdown",
   "metadata": {},
   "source": [
    "## Handling NAs\n",
    "\n",
    "For now we will drop a row if there is an NA in any of the columns of the dataframe.\n",
    "\n",
    "Next we can try imputing the value with mean:\n",
    "https://stackoverflow.com/questions/40057563/replace-missing-values-with-mean-spark-dataframe"
   ]
  },
  {
   "cell_type": "code",
   "execution_count": 115,
   "metadata": {},
   "outputs": [
    {
     "name": "stdout",
     "output_type": "stream",
     "text": [
      "+---+----+------+--------+\n",
      "|Sex| Age|Pclass|Survived|\n",
      "+---+----+------+--------+\n",
      "|  1|22.0|     3|       0|\n",
      "|  0|38.0|     1|       1|\n",
      "|  0|26.0|     3|       1|\n",
      "|  0|35.0|     1|       1|\n",
      "|  1|35.0|     3|       0|\n",
      "|  1|54.0|     1|       0|\n",
      "|  1| 2.0|     3|       0|\n",
      "|  0|27.0|     3|       1|\n",
      "|  0|14.0|     2|       1|\n",
      "|  0| 4.0|     3|       1|\n",
      "|  0|58.0|     1|       1|\n",
      "|  1|20.0|     3|       0|\n",
      "|  1|39.0|     3|       0|\n",
      "|  0|14.0|     3|       0|\n",
      "|  0|55.0|     2|       1|\n",
      "|  1| 2.0|     3|       0|\n",
      "|  0|31.0|     3|       0|\n",
      "|  1|35.0|     2|       0|\n",
      "|  1|34.0|     2|       1|\n",
      "|  0|15.0|     3|       1|\n",
      "+---+----+------+--------+\n",
      "only showing top 20 rows\n",
      "\n"
     ]
    }
   ],
   "source": [
    "titanicIndexed = titanicIndexed.dropna()\n",
    "titanicIndexed.show()"
   ]
  },
  {
   "cell_type": "markdown",
   "metadata": {},
   "source": [
    "## Train a model\n",
    "\n",
    "We have preprocessed our data. \n",
    "\n",
    "Before feeding to the model, we need to arrange the columns in a specific format. The model Estimator will look for a column named `features` and `label`. Using `VectorAssembler` tool it is very easy to accomplish that task:"
   ]
  },
  {
   "cell_type": "code",
   "execution_count": 116,
   "metadata": {},
   "outputs": [
    {
     "name": "stdout",
     "output_type": "stream",
     "text": [
      "+--------------+-----+\n",
      "|      features|label|\n",
      "+--------------+-----+\n",
      "|[22.0,1.0,3.0]|    0|\n",
      "|[38.0,0.0,1.0]|    1|\n",
      "|[26.0,0.0,3.0]|    1|\n",
      "|[35.0,0.0,1.0]|    1|\n",
      "|[35.0,1.0,3.0]|    0|\n",
      "|[54.0,1.0,1.0]|    0|\n",
      "| [2.0,1.0,3.0]|    0|\n",
      "|[27.0,0.0,3.0]|    1|\n",
      "|[14.0,0.0,2.0]|    1|\n",
      "| [4.0,0.0,3.0]|    1|\n",
      "|[58.0,0.0,1.0]|    1|\n",
      "|[20.0,1.0,3.0]|    0|\n",
      "|[39.0,1.0,3.0]|    0|\n",
      "|[14.0,0.0,3.0]|    0|\n",
      "|[55.0,0.0,2.0]|    1|\n",
      "| [2.0,1.0,3.0]|    0|\n",
      "|[31.0,0.0,3.0]|    0|\n",
      "|[35.0,1.0,2.0]|    0|\n",
      "|[34.0,1.0,2.0]|    1|\n",
      "|[15.0,0.0,3.0]|    1|\n",
      "+--------------+-----+\n",
      "only showing top 20 rows\n",
      "\n"
     ]
    }
   ],
   "source": [
    "from pyspark.ml.feature import VectorAssembler\n",
    "from pyspark.sql.functions import col\n",
    "\n",
    "featureCols = [\"Age\", \"Sex\", \"Pclass\"]\n",
    "assembler = VectorAssembler(\n",
    "    inputCols=featureCols,\n",
    "    outputCol=\"features\")\n",
    "\n",
    "\n",
    "titanic = assembler.transform(titanicIndexed).select(col(\"features\"),col(\"Survived\").alias(\"label\"))\n",
    "titanic.show()"
   ]
  },
  {
   "cell_type": "markdown",
   "metadata": {},
   "source": [
    "## Train test split\n",
    "\n",
    "Here we simply split the labeled dataset into two parts - train and test. Typically, a cross validation fraction is also needed. This might involved stratified sampling of some sort in case of unbalalanced classes."
   ]
  },
  {
   "cell_type": "code",
   "execution_count": 117,
   "metadata": {},
   "outputs": [],
   "source": [
    "train, test = titanic.randomSplit([0.8, 0.2])"
   ]
  },
  {
   "cell_type": "markdown",
   "metadata": {},
   "source": [
    "We now train a Logistic Regression model using `pyspark.ml.classification.LogisticRegression`. "
   ]
  },
  {
   "cell_type": "code",
   "execution_count": 118,
   "metadata": {},
   "outputs": [
    {
     "name": "stdout",
     "output_type": "stream",
     "text": [
      "Coefficients: [-0.0272545696251,-3.08204408743,-1.13079838049]\n",
      "Intercept: 4.402801720128114\n"
     ]
    }
   ],
   "source": [
    "from pyspark.ml.classification import LogisticRegression\n",
    "\n",
    "lr = LogisticRegression(maxIter=10) #, regParam=0.9, elasticNetParam=0.8)\n",
    "\n",
    "# Fit the model\n",
    "lrModel = lr.fit(train)\n",
    "\n",
    "# Print the coefficients and intercept for logistic regression\n",
    "print(\"Coefficients: \" + str(lrModel.coefficients))\n",
    "print(\"Intercept: \" + str(lrModel.intercept))"
   ]
  },
  {
   "cell_type": "code",
   "execution_count": 119,
   "metadata": {},
   "outputs": [
    {
     "name": "stdout",
     "output_type": "stream",
     "text": [
      "Train efficiency = 0.7633587786259542\n"
     ]
    }
   ],
   "source": [
    "preds = lrModel.transform(test) #.select(\"features\", \"label\", \"myProbability\", \"prediction\").collect()\n",
    "\n",
    "efficiency = preds.filter(preds.label == preds.prediction).count() / float(preds.count())\n",
    "print ('Train efficiency = ' + str(efficiency))"
   ]
  },
  {
   "cell_type": "markdown",
   "metadata": {
    "collapsed": true
   },
   "source": [
    "### Example: Pipeline. Hands-on exercise on Adroit\n",
    "\n",
    "The next example follows the simple text document Pipeline illustrated in the figures above.\n",
    "\n",
    "Now switch to the Adroit working area and proceed to the Pipelines exercise "
   ]
  },
  {
   "cell_type": "code",
   "execution_count": null,
   "metadata": {
    "collapsed": true
   },
   "outputs": [],
   "source": []
  }
 ],
 "metadata": {
  "anaconda-cloud": {},
  "kernelspec": {
   "display_name": "Python 3",
   "language": "python",
   "name": "python3"
  },
  "language_info": {
   "codemirror_mode": {
    "name": "ipython",
    "version": 3
   },
   "file_extension": ".py",
   "mimetype": "text/x-python",
   "name": "python",
   "nbconvert_exporter": "python",
   "pygments_lexer": "ipython3",
   "version": "3.6.3"
  }
 },
 "nbformat": 4,
 "nbformat_minor": 1
}
