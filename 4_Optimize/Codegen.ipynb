{
 "cells": [
  {
   "cell_type": "markdown",
   "metadata": {},
   "source": [
    "# Whole stage codegen\n",
    "\n",
    "Fusing operators together so the generated code looks like hand optimized code:\n",
    "- Identity chains of operators (“stages”)\n",
    "- Compile each stage into a single function\n",
    "- Functionality of a general purpose execution engine; performance as if hand built system just to run your query\n"
   ]
  },
  {
   "cell_type": "code",
   "execution_count": 1,
   "metadata": {
    "collapsed": true
   },
   "outputs": [],
   "source": [
    "import time\n",
    "\n",
    "# Define a simple benchmark function for measuring time taken\n",
    "def benchmark(name, f):\n",
    "    startTime = time.time()\n",
    "    f()\n",
    "    endTime = time.time()\n",
    "    print \"Time taken in %s: %.4f seconds\" % (name, endTime - startTime)"
   ]
  },
  {
   "cell_type": "markdown",
   "metadata": {},
   "source": [
    "## How fast can Spark 1.6 sum up 1 billion numbers?"
   ]
  },
  {
   "cell_type": "code",
   "execution_count": 2,
   "metadata": {
    "collapsed": false
   },
   "outputs": [],
   "source": [
    "# This config turns off whole stage code generation, effectively changing the execution path to be similar to Spark 1.6.\n",
    "spark.conf.set(\"spark.sql.codegen.wholeStage\", \"false\")"
   ]
  },
  {
   "cell_type": "code",
   "execution_count": 3,
   "metadata": {
    "collapsed": false
   },
   "outputs": [
    {
     "name": "stdout",
     "output_type": "stream",
     "text": [
      "+------------------+\n",
      "|           sum(id)|\n",
      "+------------------+\n",
      "|499999999500000000|\n",
      "+------------------+\n",
      "\n",
      "Time taken in Spark 1.6: 6.7759 seconds\n"
     ]
    }
   ],
   "source": [
    "f = lambda: spark.range(1000L * 1000 * 1000).selectExpr(\"sum(id)\").show()\n",
    "benchmark(\"Spark 1.6\", f)"
   ]
  },
  {
   "cell_type": "markdown",
   "metadata": {},
   "source": [
    "## How fast can Spark 1.6 join 1 billion records?"
   ]
  },
  {
   "cell_type": "code",
   "execution_count": 4,
   "metadata": {
    "collapsed": true
   },
   "outputs": [],
   "source": [
    "# This config turns off whole stage code generation, effectively changing the execution path to be similar to Spark 1.6.\n",
    "spark.conf.set(\"spark.sql.codegen.wholeStage\", \"false\")"
   ]
  },
  {
   "cell_type": "code",
   "execution_count": 5,
   "metadata": {
    "collapsed": false
   },
   "outputs": [
    {
     "name": "stdout",
     "output_type": "stream",
     "text": [
      "Time taken in Spark 1.6: 15.4027 seconds\n"
     ]
    }
   ],
   "source": [
    "f = lambda: spark.range(1000L * 1000 * 1000).join(spark.range(1000L), \"id\").count()\n",
    "benchmark(\"Spark 1.6\", f)"
   ]
  },
  {
   "cell_type": "markdown",
   "metadata": {},
   "source": [
    "## How fast can Spark 2.0 sum up 1 billion numbers?"
   ]
  },
  {
   "cell_type": "code",
   "execution_count": 6,
   "metadata": {
    "collapsed": true
   },
   "outputs": [],
   "source": [
    "# Now we turn on whole stage code generation to get the full Spark 2.0 experience\n",
    "spark.conf.set(\"spark.sql.codegen.wholeStage\", \"true\")"
   ]
  },
  {
   "cell_type": "code",
   "execution_count": 7,
   "metadata": {
    "collapsed": false
   },
   "outputs": [
    {
     "name": "stdout",
     "output_type": "stream",
     "text": [
      "+------------------+\n",
      "|           sum(id)|\n",
      "+------------------+\n",
      "|499999999500000000|\n",
      "+------------------+\n",
      "\n",
      "Time taken in Spark 2.0: 0.4961 seconds\n"
     ]
    }
   ],
   "source": [
    "f = lambda: spark.range(1000L * 1000 * 1000).selectExpr(\"sum(id)\").show()\n",
    "benchmark(\"Spark 2.0\", f)"
   ]
  },
  {
   "cell_type": "markdown",
   "metadata": {},
   "source": [
    "## How fast can Spark 2.0 join 1 billion records?"
   ]
  },
  {
   "cell_type": "code",
   "execution_count": 8,
   "metadata": {
    "collapsed": true
   },
   "outputs": [],
   "source": [
    "spark.conf.set(\"spark.sql.codegen.wholeStage\", \"true\")"
   ]
  },
  {
   "cell_type": "code",
   "execution_count": 9,
   "metadata": {
    "collapsed": false
   },
   "outputs": [
    {
     "name": "stdout",
     "output_type": "stream",
     "text": [
      "Time taken in Spark 2.0: 0.4610 seconds\n"
     ]
    }
   ],
   "source": [
    "f = lambda: spark.range(1000L * 1000 * 1000).join(spark.range(1000L), \"id\").count()\n",
    "benchmark(\"Spark 2.0\", f)"
   ]
  },
  {
   "cell_type": "markdown",
   "metadata": {},
   "source": [
    "## How fast can NumPy sum up 1 billion numbers?"
   ]
  },
  {
   "cell_type": "code",
   "execution_count": 10,
   "metadata": {
    "collapsed": false
   },
   "outputs": [
    {
     "name": "stdout",
     "output_type": "stream",
     "text": [
      "Time taken in NumPy: 17.0047 seconds\n"
     ]
    }
   ],
   "source": [
    "import numpy as np\n",
    "\n",
    "f = lambda: np.sum(np.arange(1000L * 1000 * 1000))\n",
    "benchmark(\"NumPy\", f)"
   ]
  },
  {
   "cell_type": "markdown",
   "metadata": {},
   "source": [
    "## How fast can Pandas join 100 million numbers?"
   ]
  },
  {
   "cell_type": "code",
   "execution_count": 11,
   "metadata": {
    "collapsed": false
   },
   "outputs": [
    {
     "name": "stdout",
     "output_type": "stream",
     "text": [
      "Time taken in Pandas: 27.2142 seconds\n"
     ]
    }
   ],
   "source": [
    "import numpy as np\n",
    "import pandas as pd\n",
    "\n",
    "a = pd.DataFrame({'id': np.arange(1000L * 1000 * 100)})\n",
    "b = pd.DataFrame({'id': np.arange(1000L)})\n",
    "f = lambda: a.join(b, on='id', how='inner', lsuffix=\"_left\", rsuffix=\"_right\")\n",
    "benchmark(\"Pandas\", f)"
   ]
  },
  {
   "cell_type": "markdown",
   "metadata": {},
   "source": [
    "Note: for this example, there's an obviously faster way if we can assume that we can just use indexing. For arbitrary keys, however, this approach won't work."
   ]
  },
  {
   "cell_type": "code",
   "execution_count": 12,
   "metadata": {
    "collapsed": false
   },
   "outputs": [
    {
     "name": "stdout",
     "output_type": "stream",
     "text": [
      "Time taken in Numpy indexing: 0.0162 seconds\n"
     ]
    }
   ],
   "source": [
    "X = np.arange(1000L * 1000 * 1000)\n",
    "keys = np.arange(1000L)\n",
    "f = lambda: np.shape(X[keys])[0]\n",
    "benchmark(\"Numpy indexing\", f)"
   ]
  },
  {
   "cell_type": "code",
   "execution_count": null,
   "metadata": {
    "collapsed": true
   },
   "outputs": [],
   "source": []
  }
 ],
 "metadata": {
  "anaconda-cloud": {},
  "kernelspec": {
   "display_name": "Python [conda env:BDcourseFall2016]",
   "language": "python",
   "name": "conda-env-BDcourseFall2016-py"
  },
  "language_info": {
   "codemirror_mode": {
    "name": "ipython",
    "version": 2
   },
   "file_extension": ".py",
   "mimetype": "text/x-python",
   "name": "python",
   "nbconvert_exporter": "python",
   "pygments_lexer": "ipython2",
   "version": "2.7.12"
  }
 },
 "nbformat": 4,
 "nbformat_minor": 1
}
