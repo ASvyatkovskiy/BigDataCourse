{
 "cells": [
  {
   "cell_type": "code",
   "execution_count": 1,
   "metadata": {},
   "outputs": [],
   "source": [
    "import pyspark\n",
    "try:\n",
    "    sc\n",
    "except NameError:    \n",
    "    spark = pyspark.sql.SparkSession.builder.master(\"local[*]\").appName(\"BD course\").config(\"spark.hadoop.validateOutputSpecs\", \"false\").getOrCreate()\n",
    "    sc = spark.sparkContext"
   ]
  },
  {
   "cell_type": "markdown",
   "metadata": {},
   "source": [
    "# Whole stage codegen\n",
    "\n",
    "Whole-Stage Code Generation (aka Whole-Stage CodeGen) fuses multiple operators (as a subtree of plans that support code generation) together into a single Java function that is aimed at improving execution performance. It collapses a query into a single optimized function that eliminates virtual function calls and leverages CPU registers for intermediate data.\n",
    "\n",
    "- Identity chains of operators (“stage” is a chains of trainsformations followed by a shuffle)\n",
    "- Compile each stage into a single function (i.e. one can have map -> map -> flatMap -> groupBy -> sum() compiled into a single function)\n",
    "- Functionality of a general purpose execution engine; performance as if hand built system just to run your query\n",
    "\n",
    "\n",
    "**Note: Janino is used in Spark to compile a Java source code into a Java class.**"
   ]
  },
  {
   "cell_type": "code",
   "execution_count": 2,
   "metadata": {},
   "outputs": [],
   "source": [
    "import time\n",
    "\n",
    "# Define a simple benchmark function for measuring time taken\n",
    "def benchmark(name, f):\n",
    "    startTime = time.time()\n",
    "    f()\n",
    "    endTime = time.time()\n",
    "    print (\"Time taken in %s: %.4f seconds\" % (name, endTime - startTime))"
   ]
  },
  {
   "cell_type": "markdown",
   "metadata": {},
   "source": [
    "## How fast can Spark 1.6 sum up 1 billion numbers?"
   ]
  },
  {
   "cell_type": "code",
   "execution_count": 14,
   "metadata": {},
   "outputs": [],
   "source": [
    "# This config turns off whole stage code generation, effectively changing the execution path to be similar to Spark 1.6.\n",
    "spark.conf.set(\"spark.sql.codegen.wholeStage\", \"false\")"
   ]
  },
  {
   "cell_type": "code",
   "execution_count": 15,
   "metadata": {},
   "outputs": [
    {
     "name": "stdout",
     "output_type": "stream",
     "text": [
      "+------------------+\n",
      "|           sum(id)|\n",
      "+------------------+\n",
      "|499999999500000000|\n",
      "+------------------+\n",
      "\n",
      "Time taken in Spark 1.6: 23.9768 seconds\n"
     ]
    }
   ],
   "source": [
    "f = lambda: spark.range(1000 * 1000 * 1000).selectExpr(\"sum(id)\").show()\n",
    "benchmark(\"Spark 1.6\", f)"
   ]
  },
  {
   "cell_type": "markdown",
   "metadata": {},
   "source": [
    "## How fast can Spark 1.6 join 1 billion records?"
   ]
  },
  {
   "cell_type": "code",
   "execution_count": 16,
   "metadata": {},
   "outputs": [],
   "source": [
    "# This config turns off whole stage code generation, effectively changing the execution path to be similar to Spark 1.6.\n",
    "spark.conf.set(\"spark.sql.codegen.wholeStage\", \"false\")"
   ]
  },
  {
   "cell_type": "code",
   "execution_count": 18,
   "metadata": {},
   "outputs": [
    {
     "name": "stdout",
     "output_type": "stream",
     "text": [
      "Time taken in Spark 1.6: 37.7517 seconds\n"
     ]
    }
   ],
   "source": [
    "f = lambda: spark.range(1000 * 1000 * 1000).join(spark.range(1000), \"id\").count()\n",
    "benchmark(\"Spark 1.6\", f)"
   ]
  },
  {
   "cell_type": "markdown",
   "metadata": {},
   "source": [
    "## How fast can Spark 2.0 sum up 1 billion numbers?"
   ]
  },
  {
   "cell_type": "code",
   "execution_count": 3,
   "metadata": {},
   "outputs": [],
   "source": [
    "# Now we turn on whole stage code generation to get the full Spark 2.0 experience\n",
    "spark.conf.set(\"spark.sql.codegen.wholeStage\", \"true\")"
   ]
  },
  {
   "cell_type": "code",
   "execution_count": 4,
   "metadata": {},
   "outputs": [
    {
     "name": "stdout",
     "output_type": "stream",
     "text": [
      "+------------------+\n",
      "|           sum(id)|\n",
      "+------------------+\n",
      "|499999999500000000|\n",
      "+------------------+\n",
      "\n",
      "Time taken in Spark 2.0: 5.2450 seconds\n"
     ]
    }
   ],
   "source": [
    "f = lambda: spark.range(1000 * 1000 * 1000).selectExpr(\"sum(id)\").show()\n",
    "benchmark(\"Spark 2.0\", f)"
   ]
  },
  {
   "cell_type": "markdown",
   "metadata": {},
   "source": [
    "## How fast can Spark 2.0 join 1 billion records?"
   ]
  },
  {
   "cell_type": "code",
   "execution_count": 5,
   "metadata": {},
   "outputs": [],
   "source": [
    "spark.conf.set(\"spark.sql.codegen.wholeStage\", \"true\")"
   ]
  },
  {
   "cell_type": "code",
   "execution_count": 6,
   "metadata": {},
   "outputs": [
    {
     "name": "stdout",
     "output_type": "stream",
     "text": [
      "Time taken in Spark 2.0: 0.7305 seconds\n"
     ]
    }
   ],
   "source": [
    "f = lambda: spark.range(1000 * 1000 * 1000).join(spark.range(1000), \"id\").count()\n",
    "benchmark(\"Spark 2.0\", f)"
   ]
  },
  {
   "cell_type": "markdown",
   "metadata": {},
   "source": [
    "## How fast can NumPy sum up 1 billion numbers?"
   ]
  },
  {
   "cell_type": "code",
   "execution_count": null,
   "metadata": {},
   "outputs": [],
   "source": [
    "import numpy as np\n",
    "\n",
    "f = lambda: np.sum(np.arange(1000 * 1000 * 1000))\n",
    "benchmark(\"NumPy\", f)"
   ]
  },
  {
   "cell_type": "markdown",
   "metadata": {},
   "source": [
    "## How fast can Pandas join 100 million numbers?"
   ]
  },
  {
   "cell_type": "code",
   "execution_count": null,
   "metadata": {},
   "outputs": [],
   "source": [
    "import numpy as np\n",
    "import pandas as pd\n",
    "\n",
    "a = pd.DataFrame({'id': np.arange(1000 * 1000 * 100)})\n",
    "b = pd.DataFrame({'id': np.arange(1000)})\n",
    "f = lambda: a.join(b, on='id', how='inner', lsuffix=\"_left\", rsuffix=\"_right\")\n",
    "benchmark(\"Pandas\", f)"
   ]
  },
  {
   "cell_type": "markdown",
   "metadata": {},
   "source": [
    "**Note: for this example, there's an obviously faster way if we can assume that we can just use indexing. For arbitrary keys, however, this approach won't work.**"
   ]
  },
  {
   "cell_type": "code",
   "execution_count": null,
   "metadata": {},
   "outputs": [],
   "source": [
    "X = np.arange(1000 * 1000 * 1000)\n",
    "keys = np.arange(1000)\n",
    "f = lambda: np.shape(X[keys])[0]\n",
    "benchmark(\"Numpy indexing\", f)"
   ]
  },
  {
   "cell_type": "code",
   "execution_count": null,
   "metadata": {
    "collapsed": true
   },
   "outputs": [],
   "source": []
  }
 ],
 "metadata": {
  "anaconda-cloud": {},
  "kernelspec": {
   "display_name": "Python 3",
   "language": "python",
   "name": "python3"
  },
  "language_info": {
   "codemirror_mode": {
    "name": "ipython",
    "version": 3
   },
   "file_extension": ".py",
   "mimetype": "text/x-python",
   "name": "python",
   "nbconvert_exporter": "python",
   "pygments_lexer": "ipython3",
   "version": "3.6.3"
  }
 },
 "nbformat": 4,
 "nbformat_minor": 1
}
