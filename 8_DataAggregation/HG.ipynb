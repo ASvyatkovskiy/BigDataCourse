{
 "cells": [
  {
   "cell_type": "markdown",
   "metadata": {},
   "source": [
    "# Histogrammar: a set of data aggregation primitives\n",
    "\n",
    "Histogrammar is a set of data aggregation and statistical analysis primitives that integrates well with Spark, Scala and Spark SQL (oh, and Python). \n",
    "\n",
    "Histogrammar is an open source (Apache 2.0) project where the 2 main contributors are from Princeton University (Jim Pivarski and Alexey Svyatkovskiy - me).\n",
    "\n",
    "More details and tutorials are avilable here: http://histogrammar.org/docs/\n",
    "\n",
    "## Installation instructions\n",
    "\n",
    "Histogrammar is available on Maven Central, a publicly accessible Java/Scala repository with dependency management.\n",
    "\n",
    "### Apache Spark\n",
    "\n",
    "To use Histogrammar in the Spark shell, you don’t have to download anything. Just start Spark with (same as we did with Databrick's spark-csv)\n",
    "\n",
    "```bash\n",
    "spark-shell --packages \"org.diana-hep:histogrammar_2.11:1.0.3\"\n",
    "```\n",
    "\n",
    "and call\n",
    "\n",
    "```scala\n",
    "import org.dianahep.histogrammar._\n",
    "```\n",
    "\n",
    "on the Spark prompt. For plotting with Bokeh, include `org.diana-hep:histogrammar-bokeh_2.11:1.0.3` and for interaction with Spark-SQL, include `org.diana-hep:histogrammar-sparksql_2.11:1.0.3`.\n",
    "\n",
    "Use `_2.11` for compatibility with Spark 2.0.0 (Scala 2.11) and `_2.10` for compatibility with Spark 1.x (Scala 2.10).\n",
    "Note: due to a dependency bug, Bokeh is incompatible with Spark 2.x (Scala 2.11).\n",
    "\n",
    "### Java/Scala with Maven\n",
    "\n",
    "To compile Histogrammar into a project with the Maven build tool, add\n",
    "\n",
    "```\n",
    "<dependency>\n",
    "  <groupId>org.diana-hep</groupId>\n",
    "  <artifactId>histogrammar_2.11</artifactId>\n",
    "  <version>1.0.3</version>\n",
    "</dependency>\n",
    "```\n",
    "\n",
    "to your `<dependencies>` section. Use `_2.11` for compatibility with Scala 2.11 and `_2.10` for compatibility with Scala 2.10.\n",
    "\n",
    "### Scala with sbt\n",
    "\n",
    "To use Histogrammar in sbt console or to compile it into a project with the sbt build tool, add\n",
    "\n",
    "```\n",
    "libraryDependencies += \"org.diana-hep\" %% \"histogrammar\" % \"1.0.3\"\n",
    "```\n",
    "to your build.sbt file. The double-percent gets the appropriate version of Histogrammar for your version of Scala.\n",
    "\n",
    "More specifics on the installation can be found here:\n",
    "\n",
    "http://histogrammar.org/docs/install"
   ]
  },
  {
   "cell_type": "code",
   "execution_count": null,
   "metadata": {
    "collapsed": true
   },
   "outputs": [],
   "source": [
    "More specifics on the installation can be found here:\n",
    "\n",
    "http://histogrammar.org/docs/install"
   ]
  },
  {
   "cell_type": "code",
   "execution_count": null,
   "metadata": {
    "collapsed": true
   },
   "outputs": [],
   "source": []
  }
 ],
 "metadata": {
  "anaconda-cloud": {},
  "kernelspec": {
   "display_name": "Apache Toree - Scala",
   "language": "scala",
   "name": "apache_toree_scala"
  },
  "language_info": {
   "name": "scala",
   "version": "2.11.8"
  }
 },
 "nbformat": 4,
 "nbformat_minor": 1
}
