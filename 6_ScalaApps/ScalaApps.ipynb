{
 "cells": [
  {
   "cell_type": "markdown",
   "metadata": {},
   "source": [
    "# Building Spark applications with Scala API\n",
    "\n",
    "Apache Spark is written in Scala. Scala (along with Python and Java) is among three languages supported by Spark, and in fact Scala functionality is typically added the first to new Spark releases.\n",
    "\n",
    "\n",
    "## Preparing our first Scala Spark application\n",
    "\n",
    "Let us start with an PySpark application we have prepared on one of the previous steps. Here it is:"
   ]
  },
  {
   "cell_type": "code",
   "execution_count": 1,
   "metadata": {
    "collapsed": false
   },
   "outputs": [],
   "source": [
    "from pyspark import SparkContext\n",
    "import sys\n",
    "import time\n",
    "\n",
    "def main1(args):\n",
    "    start = time.time()\n",
    "    #sc = SparkContext(appName=\"LoadUnstructured\")\n",
    "\n",
    "    input_rdd = sc.textFile(\"../2_LoadingData/data/unstructured/\",10)\n",
    "    counts = input_rdd.flatMap(lambda line: line.split()) \\\n",
    "             .map(lambda word: (word, 1)) \\\n",
    "             .reduceByKey(lambda a, b: a + b)\n",
    "\n",
    "    print \"\\nTaking the 10 most frequent words in the text and corresponding frequencies:\"\n",
    "    print counts.takeOrdered(10, key=lambda x: -x[1])\n",
    "    end = time.time()\n",
    "    print \"Elapsed time: \", (end-start)"
   ]
  },
  {
   "cell_type": "code",
   "execution_count": 2,
   "metadata": {
    "collapsed": false
   },
   "outputs": [
    {
     "name": "stdout",
     "output_type": "stream",
     "text": [
      "\n",
      "Taking the 10 most frequent words in the text and corresponding frequencies:\n",
      "[(u'the', 22635), (u'of', 11167), (u'and', 11086), (u'to', 10707), (u'a', 10433), (u'I', 10183), (u'in', 7006), (u'that', 6911), (u'was', 6779), (u'his', 4955)]\n",
      "Elapsed time:  3.28145909309\n"
     ]
    }
   ],
   "source": [
    "main1(sys.argv)"
   ]
  },
  {
   "cell_type": "raw",
   "metadata": {},
   "source": [
    "The same application can be re-written in Scala as:"
   ]
  },
  {
   "cell_type": "code",
   "execution_count": null,
   "metadata": {
    "collapsed": true
   },
   "outputs": [],
   "source": [
    "import org.apache.spark.{SparkConf, SparkContext}\n",
    "import org.apache.spark.SparkContext._\n",
    "\n",
    "object WordCount {\n",
    "  def main(args: Array[String]) {\n",
    "\n",
    "    val conf = new SparkConf().setAppName(\"WordCount\")\n",
    "\n",
    "\n",
    "    val textFile = spark.textFile(\"../loading_data/unstructured/\",10)\n",
    "    val counts = textFile.flatMap(line => line.split(\" \"))\n",
    "                 .map(word => (word, 1))\n",
    "                 .reduceByKey(_ + _)\n",
    "    println(\"\\nTaking the 10 most frequent words in the text and corresponding frequencies:\")\n",
    "    println(counts.takeOrdered(10).(Ordering[Int].reverse.on(x=>x._2)))\n",
    "        \n",
    "    val t1 = System.nanoTime()\n",
    "    println(\"Elapsed time: \" + (t1 - t0)/1000000000.)\n",
    "    spark.stop()\n",
    "  }\n",
    "}"
   ]
  },
  {
   "cell_type": "code",
   "execution_count": null,
   "metadata": {
    "collapsed": true
   },
   "outputs": [],
   "source": [
    "#We will not run it from the notebook, because we are using Jupyter. \n",
    "#But we would need a dedicated for Scala applications, like Zepellin"
   ]
  },
  {
   "cell_type": "markdown",
   "metadata": {},
   "source": [
    "Go back to the course working area on Adroit and change to the folder for this exercise:\n",
    "\n",
    "```bash\n",
    "cd 6_ScalaApps\n",
    "```\n",
    "\n",
    "## Submitting Scala Spark application Q/A\n",
    "\n",
    "Q: So you've written some Spark code in Scala. How do you submit it to Spark and run it?  \n",
    "A: Use `sbt` or `maven` to package it into a Java jar, and submit it to Spark using `spark-submit`\n",
    "\n",
    "Q: What's a Java jar?  \n",
    "A: JAR (Java Archive) is a package file format typically used to aggregate many Java class files and associated metadata and resources (text, images, etc.) into one file to distribute application software or libraries on the Java platform.\n",
    "\n",
    "### Packaging with `sbt`\n",
    "\n",
    "**What is SBT?**  \n",
    "SBT is a modern build tool written in/for Scala, though it is also a general purpose build tool  \n",
    "\n",
    "**Why SBT?**\n",
    "- Good dependency management\n",
    "- Full Scala language support for creating tasks\n",
    "- Launch REPL in project context\n",
    "\n",
    "Create a root directory for your project and run:\n",
    "```bash\n",
    "mkdir -p src/{main,test}/{resources,scala}\n",
    "mkdir lib project\n",
    "```\n",
    "within it. \n",
    "\n",
    "This script will automatically create the proper `sbt` directory structure, which borrows from the Java `maven` directory structure. The script will also generate a template `build.sbt` file at the top of the directory that you should fill out with the appropriate versions and dependencies for your app.\n",
    "\n",
    "Then we can take our Scala code, and put it in the src folder (you should have it in the main folder, so just move it there):\n",
    "\n",
    "```bash\n",
    "mv WordCount.scala src/main/scala/\n",
    "```\n",
    "\n",
    "**Project Layout (Directory structure)**   \n",
    "\n",
    "`project` – project definition files  \n",
    "`project/build/` *yourproject* `.scala` – the main project definition file  \n",
    "`project/build.properties` – project, sbt and scala version definitions  \n",
    "`src/main` – your app code goes here, in a subdirectory indicating the code’s language (e.g. src/main/scala, src/main/java)  \n",
    "`src/main/resources` – static files you want added to your jar (e.g. logging config)  \n",
    "`src/test` – like src/main, but for tests  \n",
    "`lib_managed` – the jar files your project depends on. Populated by sbt update  \n",
    "`target` – the destination for generated stuff (e.g. generated thrift\n",
    "code, class files, jars)  \n",
    "\n",
    "#### `build.sbt`: Dependencies and versioning\n",
    "\n",
    "Example `simple.sbt` (located in the root directory of your project) \n",
    "\n",
    "```scala\n",
    "name := \"WordCount\"\n",
    "\n",
    "version := \"1.0\"\n",
    "\n",
    "scalaVersion := \"2.10.4\"\n",
    "\n",
    "libraryDependencies ++= Seq(\n",
    "    // Spark dependency\n",
    "    \"org.apache.spark\" % \"spark-core_2.10\" % \"1.6.1\" % \"provided\"\n",
    ")\n",
    "```\n",
    "\n",
    "\n",
    "#### Assembly.sbt to build a fat Jar\n",
    "\n",
    "Example assembly.sbt located in the /project folder of your project:\n",
    "\n",
    "```scala\n",
    "resolvers += Resolver.url(\"artifactory\", url(\"http://scalasbt.artifactoryonline.com/scalasbt/sbt-plugin-releases\"))(Resolver.ivyStylePatterns)\n",
    "\n",
    "addSbtPlugin(\"com.eed3si9n\" % \"sbt-assembly\" % \"0.13.0\")\n",
    "```\n",
    "\n",
    "### Running (submitting a `jar` to Spark)\n",
    "\n",
    "1. Run `sbt assembly` in your project's home directory. The output to console will tell you the name and location of the resulting jar (under `./target`) \n",
    "\n",
    "You should now see the Jar file generated:\n",
    "```bash\n",
    "[alexeys@bd scala_spark] ll target/scala-2.10/\n",
    "total 6968\n",
    "drwxr-xr-x. 2 alexeys cses    4096 Dec  9 10:43 classes\n",
    "-rw-r--r--. 1 alexeys cses 7129172 Dec  9 10:43 WordCount-assembly-1.0.jar\n",
    "```\n",
    "\n",
    "2. In the Slurm batch script, use spark-submit as usual to submit the Spark app, but you would need to specify the --class and the path to jar from the current folder, for instance:\n",
    "\n",
    "```bash\n",
    "spark-submit --class \"WordCount\" --total-executor-cores target/scala-2.10/WordCount-assembly-1.0.jar\n",
    "```\n"
   ]
  },
  {
   "cell_type": "markdown",
   "metadata": {},
   "source": [
    "### Hands-on mini-exercise\n",
    "\n",
    "Run the above steps in your working area on Adroit."
   ]
  },
  {
   "cell_type": "markdown",
   "metadata": {
    "collapsed": true
   },
   "source": [
    "# Model selection via cross validation\n",
    "\n",
    "An important task in ML is model selection, or using data to find the best model or parameters for a given task. **Pipelines** facilitate model selection by making it easy to tune an entire **Pipeline** at once, rather than tuning each element in the **Pipelines** separately.\n",
    "\n",
    "Currently, **spark.ml** supports model selection using the **CrossValidator** class, which takes an Estimator, a set of ParamMaps, and an Evaluator. CrossValidator begins by splitting the dataset into a set of folds which are used as separate training and test datasets; e.g., with k=3 there is 3 folds, CrossValidator will generate 3 (training, test) dataset pairs, each of which uses 2/3 of the data for training and 1/3 for testing. CrossValidator iterates through the set of ParamMaps. For each ParamMap, it trains the given Estimator and evaluates it using the given Evaluator.\n",
    "\n",
    "The Evaluator can be a RegressionEvaluator for regression problems, a BinaryClassificationEvaluator for binary data, or a MultiClassClassificationEvaluator for multiclass problems. The default metric used to choose the best ParamMap can be overriden by the setMetric method in each of these evaluators.\n",
    "\n",
    "The ParamMap which produces the best evaluation metric (averaged over the k folds) is selected as the best model. CrossValidator finally fits the Estimator using the best ParamMap and the entire dataset.\n",
    "\n",
    "The following example demonstrates using CrossValidator to select from a grid of parameters. To help construct the parameter grid, we use the ParamGridBuilder utility.\n"
   ]
  },
  {
   "cell_type": "code",
   "execution_count": null,
   "metadata": {
    "collapsed": true
   },
   "outputs": [],
   "source": [
    "import org.apache.spark.ml.Pipeline\n",
    "import org.apache.spark.ml.classification.LogisticRegression\n",
    "import org.apache.spark.ml.evaluation.BinaryClassificationEvaluator\n",
    "import org.apache.spark.ml.feature.{HashingTF, Tokenizer}\n",
    "import org.apache.spark.ml.tuning.{ParamGridBuilder, CrossValidator}\n",
    "import org.apache.spark.mllib.linalg.Vector\n",
    "import org.apache.spark.sql.Row\n",
    "\n",
    "// Prepare training data from a list of (id, text, label) tuples.\n",
    "val training = sqlContext.createDataFrame(Seq(\n",
    "  (0L, \"a b c d e spark\", 1.0),\n",
    "  (1L, \"b d\", 0.0),\n",
    "  (2L, \"spark f g h\", 1.0),\n",
    "  (3L, \"hadoop mapreduce\", 0.0),\n",
    "  (4L, \"b spark who\", 1.0),\n",
    "  (5L, \"g d a y\", 0.0),\n",
    "  (6L, \"spark fly\", 1.0),\n",
    "  (7L, \"was mapreduce\", 0.0),\n",
    "  (8L, \"e spark program\", 1.0),\n",
    "  (9L, \"a e c l\", 0.0),\n",
    "  (10L, \"spark compile\", 1.0),\n",
    "  (11L, \"hadoop software\", 0.0)\n",
    ")).toDF(\"id\", \"text\", \"label\")\n",
    "\n",
    "// Configure an ML pipeline, which consists of three stages: tokenizer, hashingTF, and lr.\n",
    "val tokenizer = new Tokenizer()\n",
    "  .setInputCol(\"text\")\n",
    "  .setOutputCol(\"words\")\n",
    "val hashingTF = new HashingTF()\n",
    "  .setInputCol(tokenizer.getOutputCol)\n",
    "  .setOutputCol(\"features\")\n",
    "val lr = new LogisticRegression()\n",
    "  .setMaxIter(10)\n",
    "val pipeline = new Pipeline()\n",
    "  .setStages(Array(tokenizer, hashingTF, lr))\n",
    "\n",
    "// We use a ParamGridBuilder to construct a grid of parameters to search over.\n",
    "// With 3 values for hashingTF.numFeatures and 2 values for lr.regParam,\n",
    "// this grid will have 3 x 2 = 6 parameter settings for CrossValidator to choose from.\n",
    "val paramGrid = new ParamGridBuilder()\n",
    "  .addGrid(hashingTF.numFeatures, Array(10, 100, 1000))\n",
    "  .addGrid(lr.regParam, Array(0.1, 0.01))\n",
    "  .build()\n",
    "\n",
    "// We now treat the Pipeline as an Estimator, wrapping it in a CrossValidator instance.\n",
    "// This will allow us to jointly choose parameters for all Pipeline stages.\n",
    "// A CrossValidator requires an Estimator, a set of Estimator ParamMaps, and an Evaluator.\n",
    "// Note that the evaluator here is a BinaryClassificationEvaluator and its default metric\n",
    "// is areaUnderROC.\n",
    "val cv = new CrossValidator()\n",
    "  .setEstimator(pipeline)\n",
    "  .setEvaluator(new BinaryClassificationEvaluator)\n",
    "  .setEstimatorParamMaps(paramGrid)\n",
    "  .setNumFolds(2) // Use 3+ in practice\n",
    "\n",
    "// Run cross-validation, and choose the best set of parameters.\n",
    "val cvModel = cv.fit(training)\n",
    "\n",
    "// Prepare test documents, which are unlabeled (id, text) tuples.\n",
    "val test = sqlContext.createDataFrame(Seq(\n",
    "  (4L, \"spark i j k\"),\n",
    "  (5L, \"l m n\"),\n",
    "  (6L, \"mapreduce spark\"),\n",
    "  (7L, \"apache hadoop\")\n",
    ")).toDF(\"id\", \"text\")\n",
    "\n",
    "// Make predictions on test documents. cvModel uses the best model found (lrModel).\n",
    "cvModel.transform(test)\n",
    "  .select(\"id\", \"text\", \"probability\", \"prediction\")\n",
    "  .collect()\n",
    "  .foreach { case Row(id: Long, text: String, prob: Vector, prediction: Double) =>\n",
    "    println(s\"($id, $text) --> prob=$prob, prediction=$prediction\")\n",
    "  }"
   ]
  },
  {
   "cell_type": "markdown",
   "metadata": {},
   "source": [
    "### Hands-on mini-exercise\n",
    "\n",
    "Run this on the Adroit cluster"
   ]
  }
 ],
 "metadata": {
  "kernelspec": {
   "display_name": "Python 2",
   "language": "python",
   "name": "python2"
  },
  "language_info": {
   "codemirror_mode": {
    "name": "ipython",
    "version": 2
   },
   "file_extension": ".py",
   "mimetype": "text/x-python",
   "name": "python",
   "nbconvert_exporter": "python",
   "pygments_lexer": "ipython2",
   "version": "2.7.11"
  }
 },
 "nbformat": 4,
 "nbformat_minor": 0
}
